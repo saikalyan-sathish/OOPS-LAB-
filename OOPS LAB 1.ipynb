{
 "cells": [
  {
   "cell_type": "code",
   "execution_count": 1,
   "id": "48235ded",
   "metadata": {},
   "outputs": [
    {
     "name": "stdout",
     "output_type": "stream",
     "text": [
      "Largest number in list = 76\n"
     ]
    }
   ],
   "source": [
    "numbers = [10,2,4,5,6,76]\n",
    "def largest_num(numbers):\n",
    "    print(\"Largest number in list =\", max(numbers))\n",
    "\n",
    "largest_num(numbers)"
   ]
  },
  {
   "cell_type": "code",
   "execution_count": 4,
   "id": "b218c335",
   "metadata": {},
   "outputs": [
    {
     "name": "stdout",
     "output_type": "stream",
     "text": [
      "Area: 10.3923\n"
     ]
    }
   ],
   "source": [
    "import math \n",
    "  \n",
    "\n",
    "def hexagonArea(s): \n",
    "      \n",
    "    return ((3 * math.sqrt(3) * \n",
    "            (s * s)) / 2);  \n",
    "      \n",
    "   \n",
    "if __name__ == \"__main__\" :  \n",
    "  \n",
    " \n",
    "    s = 2\n",
    "  \n",
    "    print(\"Area:\",\"{0:.4f}\" .  \n",
    "           format(hexagonArea(s))) "
   ]
  },
  {
   "cell_type": "code",
   "execution_count": 8,
   "id": "7b48154c",
   "metadata": {},
   "outputs": [
    {
     "name": "stdout",
     "output_type": "stream",
     "text": [
      "False\n",
      "True\n"
     ]
    }
   ],
   "source": [
    "import re\n",
    "\n",
    "def is_valid_email(email):\n",
    "   \n",
    "    pattern = r\"^[a-zA-Z0-9_.+-]+@[a-zA-Z0-9-]+\\.[a-zA-Z0-9-.]+$\"\n",
    "    \n",
    "\n",
    "    if re.match(pattern, email):\n",
    "        return True\n",
    "    else:\n",
    "        return False\n",
    "  \n",
    "email1 = \"exampleexample.com\"\n",
    "email2 = \"invalid@email.com\"\n",
    "\n",
    "print(is_valid_email(email1))  \n",
    "print(is_valid_email(email2))  \n",
    "\n"
   ]
  }
 ],
 "metadata": {
  "kernelspec": {
   "display_name": "Python 3 (ipykernel)",
   "language": "python",
   "name": "python3"
  },
  "language_info": {
   "codemirror_mode": {
    "name": "ipython",
    "version": 3
   },
   "file_extension": ".py",
   "mimetype": "text/x-python",
   "name": "python",
   "nbconvert_exporter": "python",
   "pygments_lexer": "ipython3",
   "version": "3.9.12"
  }
 },
 "nbformat": 4,
 "nbformat_minor": 5
}
