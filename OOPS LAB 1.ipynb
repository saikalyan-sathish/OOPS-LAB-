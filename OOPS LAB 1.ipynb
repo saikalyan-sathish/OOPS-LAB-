{
 "cells": [
  {
   "cell_type": "code",
   "execution_count": 1,
   "id": "4ea65b8e",
   "metadata": {},
   "outputs": [
    {
     "name": "stdout",
     "output_type": "stream",
     "text": [
      "Largest number in list = 76\n"
     ]
    }
   ],
   "source": [
    "numbers = [10,2,4,5,6,76]\n",
    "def largest_num(numbers):\n",
    "    print(\"Largest number in list =\", max(numbers))\n",
    "\n",
    "largest_num(numbers)"
   ]
  },
  {
   "cell_type": "code",
   "execution_count": 4,
   "id": "1338d44e",
   "metadata": {},
   "outputs": [
    {
     "name": "stdout",
     "output_type": "stream",
     "text": [
      "Area: 10.3923\n"
     ]
    }
   ],
   "source": [
    "import math \n",
    "  \n",
    "\n",
    "def hexagonArea(s): \n",
    "      \n",
    "    return ((3 * math.sqrt(3) * \n",
    "            (s * s)) / 2);  \n",
    "      \n",
    "   \n",
    "if __name__ == \"__main__\" :  \n",
    "  \n",
    " \n",
    "    s = 2\n",
    "  \n",
    "    print(\"Area:\",\"{0:.4f}\" .  \n",
    "           format(hexagonArea(s))) "
   ]
  },
  {
   "cell_type": "code",
   "execution_count": 9,
   "id": "7f9147e4",
   "metadata": {},
   "outputs": [
    {
     "name": "stdout",
     "output_type": "stream",
     "text": [
      "False\n",
      "True\n"
     ]
    }
   ],
   "source": [
    "import re\n",
    "\n",
    "def is_valid_email(email):\n",
    "   \n",
    "    pattern = r\"^[a-zA-Z0-9_.+-]+@[a-zA-Z0-9-]+\\.[a-zA-Z0-9-.]+$\"\n",
    "    \n",
    "\n",
    "    if re.match(pattern, email):\n",
    "        return True\n",
    "    else:\n",
    "        return False\n",
    "  \n",
    "email1 = \"exampleexample.com\"\n",
    "email2 = \"invalid@email.com\"\n",
    "\n",
    "print(is_valid_email(email1))  \n",
    "print(is_valid_email(email2))  \n",
    "\n"
   ]
  },
  {
   "cell_type": "code",
   "execution_count": 11,
   "id": "000f4ff5",
   "metadata": {},
   "outputs": [
    {
     "name": "stdout",
     "output_type": "stream",
     "text": [
      "Encrypted: Mjqqt, Btwqi!\n",
      "Decrypted: Hello, World!\n"
     ]
    }
   ],
   "source": [
    "def encrypt(text, shift):\n",
    "    encrypted_text = \"\"\n",
    "    for char in text:\n",
    "        if char.isalpha():\n",
    "            shifted = ord(char) + shift\n",
    "            if char.islower():\n",
    "                if shifted > ord('z'):\n",
    "                    shifted -= 26\n",
    "                elif shifted < ord('a'):\n",
    "                    shifted += 26\n",
    "            elif char.isupper():\n",
    "                if shifted > ord('Z'):\n",
    "                    shifted -= 26\n",
    "                elif shifted < ord('A'):\n",
    "                    shifted += 26\n",
    "            encrypted_text += chr(shifted)\n",
    "        else:\n",
    "            encrypted_text += char\n",
    "    return encrypted_text\n",
    "\n",
    "def decrypt(encrypted_text, shift):\n",
    "    return encrypt(encrypted_text, -shift)\n",
    "\n",
    "text = \"Hello, World!\"\n",
    "shift = 5\n",
    "\n",
    "encrypted_text = encrypt(text, shift)\n",
    "print(\"Encrypted:\", encrypted_text)  # Output: Mjqqt, Btwqi!\n",
    "\n",
    "decrypted_text = decrypt(encrypted_text, shift)\n",
    "print(\"Decrypted:\", decrypted_text)  # Output: Hello, World!\n"
   ]
  },
  {
   "cell_type": "code",
   "execution_count": 12,
   "id": "c0ed1496",
   "metadata": {},
   "outputs": [
    {
     "name": "stdout",
     "output_type": "stream",
     "text": [
      "Palindromes: ['level', 'radar', 'madam', 'kayak']\n"
     ]
    }
   ],
   "source": [
    "def get_palindromes(input_string):\n",
    "    words = input_string.split()\n",
    "    palindromes = [word for word in words if word == word[::-1]]\n",
    "    return palindromes\n",
    "input_string = \"level radar hello madam kayak world\"\n",
    "result = get_palindromes(input_string)\n",
    "print(\"Palindromes:\", result)\n",
    "Palindromes: ['level', 'radar', 'madam', 'kayak']\n"
   ]
  }
 ],
 "metadata": {
  "kernelspec": {
   "display_name": "Python 3 (ipykernel)",
   "language": "python",
   "name": "python3"
  },
  "language_info": {
   "codemirror_mode": {
    "name": "ipython",
    "version": 3
   },
   "file_extension": ".py",
   "mimetype": "text/x-python",
   "name": "python",
   "nbconvert_exporter": "python",
   "pygments_lexer": "ipython3",
   "version": "3.9.12"
  }
 },
 "nbformat": 4,
 "nbformat_minor": 5
}
